{
  "nbformat": 4,
  "nbformat_minor": 0,
  "metadata": {
    "colab": {
      "name": "models_evaluation.ipynb",
      "provenance": [],
      "collapsed_sections": []
    },
    "kernelspec": {
      "name": "python3",
      "display_name": "Python 3"
    },
    "language_info": {
      "name": "python"
    }
  },
  "cells": [
    {
      "cell_type": "code",
      "source": [
        "n_try = 1\n",
        "\n",
        "model_names = [\n",
        "               'CNN'\n",
        "]"
      ],
      "metadata": {
        "id": "LkE6lkCRcwXD"
      },
      "execution_count": 9,
      "outputs": []
    },
    {
      "cell_type": "code",
      "source": [
        "from google.colab import drive\n",
        "\n",
        "drive.mount('/content/drive')"
      ],
      "metadata": {
        "colab": {
          "base_uri": "https://localhost:8080/"
        },
        "id": "ySo9ayQjckIl",
        "outputId": "256ac743-bd80-4d9d-8352-fc16603721b3"
      },
      "execution_count": 1,
      "outputs": [
        {
          "output_type": "stream",
          "name": "stdout",
          "text": [
            "Mounted at /content/drive\n"
          ]
        }
      ]
    },
    {
      "cell_type": "code",
      "source": [
        "from os.path import isdir\n",
        "import tensorflow as tf\n",
        "import numpy as np\n",
        "import os\n",
        "import matplotlib.pyplot as plt\n",
        "from tensorflow.keras.preprocessing.image import ImageDataGenerator\n",
        "from tensorflow.keras.models import load_model"
      ],
      "metadata": {
        "id": "s9Bzff8OfbMy"
      },
      "execution_count": 15,
      "outputs": []
    },
    {
      "cell_type": "code",
      "source": [
        "class DataProperties:\n",
        "    main_dir = '/content/drive/MyDrive/ML/Datasets/4.Food5k/'\n",
        "    validation_dir = main_dir + 'validation/'\n",
        "    train_dir = main_dir + 'train/'\n",
        "    test_dir = main_dir + 'test/'\n",
        "\n",
        "    hackathon_dir = f'/content/drive/MyDrive/ML/Unox/{n_try}/'\n",
        "    model_save_dir = hackathon_dir + 'Models/'\n",
        "    histories_dir = hackathon_dir + 'Histories/'"
      ],
      "metadata": {
        "id": "uNYGNsM9coak"
      },
      "execution_count": 4,
      "outputs": []
    },
    {
      "cell_type": "markdown",
      "source": [
        "# Prepare Data"
      ],
      "metadata": {
        "id": "3zYf9OjPdcti"
      }
    },
    {
      "cell_type": "code",
      "source": [
        "target_shapes = {\n",
        "    'CNN': (256, 256)\n",
        "}"
      ],
      "metadata": {
        "id": "XTMIm-TjfBUO"
      },
      "execution_count": 12,
      "outputs": []
    },
    {
      "cell_type": "code",
      "source": [
        "def preprocess(image):\n",
        "    image = image / 255.\n",
        "    return image\n",
        "\n",
        "def prepare_validation_data(target_shape):\n",
        "\n",
        "    val_use = 1  # 0.4\n",
        "\n",
        "    val_generator = ImageDataGenerator(\n",
        "        validation_split = 1 - val_use,\n",
        "\n",
        "        preprocessing_function = preprocess,\n",
        "        # samplewise_center = \n",
        "        # featurewise_center = \n",
        "\n",
        "        # width_shift_range = width_shift_range,\n",
        "        # height_shift_range = height_shift_range,\n",
        "        # rotation_range = rotation_range,\n",
        "        # horizontal_flip = True,\n",
        "        # vertical_flip = True,\n",
        "\n",
        "        # brightness_range = \n",
        "        # zoom_range = zoom_range\n",
        "    )\n",
        "\n",
        "    val_flow = val_generator.flow_from_directory(\n",
        "        directory = DataProperties.validation_dir,\n",
        "\n",
        "        target_size = target_shape,\n",
        "        color_mode = 'rgb',\n",
        "        # classes = \n",
        "        class_mode = 'sparse',\n",
        "        # batch_size = None,\n",
        "        subset = 'training',\n",
        "        shuffle = False,\n",
        "        seed = 123\n",
        "    )\n",
        "\n",
        "    print(f'Use {val_flow.n} images for validation flow')\n",
        "\n",
        "    return val_flow\n",
        "\n",
        "val_flow = prepare_validation_data(\n",
        "    target_shape = target_shapes['CNN']\n",
        ")"
      ],
      "metadata": {
        "colab": {
          "base_uri": "https://localhost:8080/"
        },
        "id": "dqoH6LJcdet4",
        "outputId": "737575be-dd9b-4d5c-d951-ea55cfe39318"
      },
      "execution_count": 14,
      "outputs": [
        {
          "output_type": "stream",
          "name": "stdout",
          "text": [
            "Found 475 images belonging to 2 classes.\n",
            "Use 475 images for validation flow\n"
          ]
        }
      ]
    },
    {
      "cell_type": "markdown",
      "source": [
        "# Load models"
      ],
      "metadata": {
        "id": "Ik-YYNpBc1jI"
      }
    },
    {
      "cell_type": "code",
      "source": [
        "def load_all_models(names_list):\n",
        "\n",
        "    loaded_models = {\n",
        "        name: load_model(f'{DataProperties.model_save_dir}{name}/') for name in names_list\n",
        "    }\n",
        "\n",
        "    return loaded_models\n",
        "\n",
        "loaded_models = load_all_models(\n",
        "    model_names\n",
        ")"
      ],
      "metadata": {
        "id": "OHJIfMtMc24o"
      },
      "execution_count": 23,
      "outputs": []
    },
    {
      "cell_type": "code",
      "source": [
        "loaded_models['CNN'].summary()"
      ],
      "metadata": {
        "colab": {
          "base_uri": "https://localhost:8080/"
        },
        "id": "xg0A5JkMdZQC",
        "outputId": "8e9fb5dd-7773-494d-91c6-c4213bdd3afd"
      },
      "execution_count": 24,
      "outputs": [
        {
          "output_type": "stream",
          "name": "stdout",
          "text": [
            "Model: \"sequential\"\n",
            "_________________________________________________________________\n",
            " Layer (type)                Output Shape              Param #   \n",
            "=================================================================\n",
            " conv2d (Conv2D)             (None, 62, 62, 96)        34944     \n",
            "                                                                 \n",
            " max_pooling2d (MaxPooling2D  (None, 30, 30, 96)       0         \n",
            " )                                                               \n",
            "                                                                 \n",
            " conv2d_1 (Conv2D)           (None, 7, 7, 96)          331872    \n",
            "                                                                 \n",
            " max_pooling2d_1 (MaxPooling  (None, 3, 3, 96)         0         \n",
            " 2D)                                                             \n",
            "                                                                 \n",
            " flatten (Flatten)           (None, 864)               0         \n",
            "                                                                 \n",
            " dense (Dense)               (None, 10)                8650      \n",
            "                                                                 \n",
            " dense_1 (Dense)             (None, 1)                 11        \n",
            "                                                                 \n",
            "=================================================================\n",
            "Total params: 375,477\n",
            "Trainable params: 375,477\n",
            "Non-trainable params: 0\n",
            "_________________________________________________________________\n"
          ]
        }
      ]
    },
    {
      "cell_type": "code",
      "source": [
        "loaded_models['CNN'].evaluate(\n",
        "    val_flow\n",
        ")"
      ],
      "metadata": {
        "colab": {
          "base_uri": "https://localhost:8080/"
        },
        "id": "QKC_E20-fqwE",
        "outputId": "7f5b94ab-6053-42ae-cac3-57866f395d84"
      },
      "execution_count": 25,
      "outputs": [
        {
          "output_type": "stream",
          "name": "stdout",
          "text": [
            "15/15 [==============================] - 7s 488ms/step - loss: 0.5096 - accuracy: 0.7768\n"
          ]
        },
        {
          "output_type": "execute_result",
          "data": {
            "text/plain": [
              "[0.5095794200897217, 0.7768421173095703]"
            ]
          },
          "metadata": {},
          "execution_count": 25
        }
      ]
    },
    {
      "cell_type": "markdown",
      "source": [
        "# Load histories"
      ],
      "metadata": {
        "id": "W5hc9F9Lf1W2"
      }
    },
    {
      "cell_type": "code",
      "source": [
        "from os.path import isfile\n",
        "import pandas as pd\n",
        "\n",
        "def load_histories(model_names):\n",
        "    res = {n: None for n in model_names}\n",
        "\n",
        "    for name in model_names:\n",
        "        history_dir = f'{DataProperties.histories_dir}'\n",
        "        assert(isdir(history_dir))\n",
        "\n",
        "        file_path = f'{history_dir}{name}_history.csv'\n",
        "        assert isfile(file_path)\n",
        "\n",
        "        res[name] = pd.read_csv(file_path)\n",
        "    return res\n",
        "\n",
        "\n",
        "loaded_histories = load_histories(\n",
        "    model_names\n",
        ")"
      ],
      "metadata": {
        "id": "Cy2S9jgvf2q8"
      },
      "execution_count": 27,
      "outputs": []
    },
    {
      "cell_type": "markdown",
      "source": [
        "# Plot learning curves"
      ],
      "metadata": {
        "id": "qCxRQQAuh-6t"
      }
    },
    {
      "cell_type": "code",
      "execution_count": 32,
      "metadata": {
        "id": "vJW6c6FSVUY2"
      },
      "outputs": [],
      "source": [
        "def plot_metrics_history(history_df, metrics_name):\n",
        "    fig, ax = plt.subplots()\n",
        "\n",
        "    plot_d = dict(\n",
        "        marker = 'o',\n",
        "        markerfacecolor = 'white'\n",
        "    )\n",
        "\n",
        "    axis_d = dict(\n",
        "        fontsize = 20\n",
        "    )\n",
        "\n",
        "    ax.plot(history_df[f'{metrics_name}'], **plot_d)\n",
        "    ax.plot(history_df[f'val_{metrics_name}'], **plot_d)\n",
        "\n",
        "\n",
        "    ax.set_xlabel('Epoch', **axis_d)\n",
        "    ax.set_ylabel(f'Metrics: {metrics_name}', **axis_d)\n",
        "    ax.set_title('Metrics VS epoch', **axis_d)\n",
        "\n",
        "    ax.grid()\n",
        "    legend_size = 15\n",
        "    ax.legend(['train', 'validation'], prop = {'size': legend_size})"
      ]
    },
    {
      "cell_type": "code",
      "source": [
        "loaded_histories['CNN'].head()"
      ],
      "metadata": {
        "colab": {
          "base_uri": "https://localhost:8080/",
          "height": 143
        },
        "id": "FWnb9V_Ohrk0",
        "outputId": "eba6b06a-2bb6-407e-8b9a-bf0acb88b36f"
      },
      "execution_count": 33,
      "outputs": [
        {
          "output_type": "execute_result",
          "data": {
            "text/plain": [
              "   Unnamed: 0      loss  accuracy  val_loss  val_accuracy\n",
              "0           0  0.640848  0.631476  0.555191      0.761161\n",
              "1           1  0.563067  0.726295  0.525827      0.752232\n",
              "2           2  0.513596  0.771261  0.491936      0.776786"
            ],
            "text/html": [
              "\n",
              "  <div id=\"df-206f3c3d-db31-4a47-8baf-f5e06367d930\">\n",
              "    <div class=\"colab-df-container\">\n",
              "      <div>\n",
              "<style scoped>\n",
              "    .dataframe tbody tr th:only-of-type {\n",
              "        vertical-align: middle;\n",
              "    }\n",
              "\n",
              "    .dataframe tbody tr th {\n",
              "        vertical-align: top;\n",
              "    }\n",
              "\n",
              "    .dataframe thead th {\n",
              "        text-align: right;\n",
              "    }\n",
              "</style>\n",
              "<table border=\"1\" class=\"dataframe\">\n",
              "  <thead>\n",
              "    <tr style=\"text-align: right;\">\n",
              "      <th></th>\n",
              "      <th>Unnamed: 0</th>\n",
              "      <th>loss</th>\n",
              "      <th>accuracy</th>\n",
              "      <th>val_loss</th>\n",
              "      <th>val_accuracy</th>\n",
              "    </tr>\n",
              "  </thead>\n",
              "  <tbody>\n",
              "    <tr>\n",
              "      <th>0</th>\n",
              "      <td>0</td>\n",
              "      <td>0.640848</td>\n",
              "      <td>0.631476</td>\n",
              "      <td>0.555191</td>\n",
              "      <td>0.761161</td>\n",
              "    </tr>\n",
              "    <tr>\n",
              "      <th>1</th>\n",
              "      <td>1</td>\n",
              "      <td>0.563067</td>\n",
              "      <td>0.726295</td>\n",
              "      <td>0.525827</td>\n",
              "      <td>0.752232</td>\n",
              "    </tr>\n",
              "    <tr>\n",
              "      <th>2</th>\n",
              "      <td>2</td>\n",
              "      <td>0.513596</td>\n",
              "      <td>0.771261</td>\n",
              "      <td>0.491936</td>\n",
              "      <td>0.776786</td>\n",
              "    </tr>\n",
              "  </tbody>\n",
              "</table>\n",
              "</div>\n",
              "      <button class=\"colab-df-convert\" onclick=\"convertToInteractive('df-206f3c3d-db31-4a47-8baf-f5e06367d930')\"\n",
              "              title=\"Convert this dataframe to an interactive table.\"\n",
              "              style=\"display:none;\">\n",
              "        \n",
              "  <svg xmlns=\"http://www.w3.org/2000/svg\" height=\"24px\"viewBox=\"0 0 24 24\"\n",
              "       width=\"24px\">\n",
              "    <path d=\"M0 0h24v24H0V0z\" fill=\"none\"/>\n",
              "    <path d=\"M18.56 5.44l.94 2.06.94-2.06 2.06-.94-2.06-.94-.94-2.06-.94 2.06-2.06.94zm-11 1L8.5 8.5l.94-2.06 2.06-.94-2.06-.94L8.5 2.5l-.94 2.06-2.06.94zm10 10l.94 2.06.94-2.06 2.06-.94-2.06-.94-.94-2.06-.94 2.06-2.06.94z\"/><path d=\"M17.41 7.96l-1.37-1.37c-.4-.4-.92-.59-1.43-.59-.52 0-1.04.2-1.43.59L10.3 9.45l-7.72 7.72c-.78.78-.78 2.05 0 2.83L4 21.41c.39.39.9.59 1.41.59.51 0 1.02-.2 1.41-.59l7.78-7.78 2.81-2.81c.8-.78.8-2.07 0-2.86zM5.41 20L4 18.59l7.72-7.72 1.47 1.35L5.41 20z\"/>\n",
              "  </svg>\n",
              "      </button>\n",
              "      \n",
              "  <style>\n",
              "    .colab-df-container {\n",
              "      display:flex;\n",
              "      flex-wrap:wrap;\n",
              "      gap: 12px;\n",
              "    }\n",
              "\n",
              "    .colab-df-convert {\n",
              "      background-color: #E8F0FE;\n",
              "      border: none;\n",
              "      border-radius: 50%;\n",
              "      cursor: pointer;\n",
              "      display: none;\n",
              "      fill: #1967D2;\n",
              "      height: 32px;\n",
              "      padding: 0 0 0 0;\n",
              "      width: 32px;\n",
              "    }\n",
              "\n",
              "    .colab-df-convert:hover {\n",
              "      background-color: #E2EBFA;\n",
              "      box-shadow: 0px 1px 2px rgba(60, 64, 67, 0.3), 0px 1px 3px 1px rgba(60, 64, 67, 0.15);\n",
              "      fill: #174EA6;\n",
              "    }\n",
              "\n",
              "    [theme=dark] .colab-df-convert {\n",
              "      background-color: #3B4455;\n",
              "      fill: #D2E3FC;\n",
              "    }\n",
              "\n",
              "    [theme=dark] .colab-df-convert:hover {\n",
              "      background-color: #434B5C;\n",
              "      box-shadow: 0px 1px 3px 1px rgba(0, 0, 0, 0.15);\n",
              "      filter: drop-shadow(0px 1px 2px rgba(0, 0, 0, 0.3));\n",
              "      fill: #FFFFFF;\n",
              "    }\n",
              "  </style>\n",
              "\n",
              "      <script>\n",
              "        const buttonEl =\n",
              "          document.querySelector('#df-206f3c3d-db31-4a47-8baf-f5e06367d930 button.colab-df-convert');\n",
              "        buttonEl.style.display =\n",
              "          google.colab.kernel.accessAllowed ? 'block' : 'none';\n",
              "\n",
              "        async function convertToInteractive(key) {\n",
              "          const element = document.querySelector('#df-206f3c3d-db31-4a47-8baf-f5e06367d930');\n",
              "          const dataTable =\n",
              "            await google.colab.kernel.invokeFunction('convertToInteractive',\n",
              "                                                     [key], {});\n",
              "          if (!dataTable) return;\n",
              "\n",
              "          const docLinkHtml = 'Like what you see? Visit the ' +\n",
              "            '<a target=\"_blank\" href=https://colab.research.google.com/notebooks/data_table.ipynb>data table notebook</a>'\n",
              "            + ' to learn more about interactive tables.';\n",
              "          element.innerHTML = '';\n",
              "          dataTable['output_type'] = 'display_data';\n",
              "          await google.colab.output.renderOutput(dataTable, element);\n",
              "          const docLink = document.createElement('div');\n",
              "          docLink.innerHTML = docLinkHtml;\n",
              "          element.appendChild(docLink);\n",
              "        }\n",
              "      </script>\n",
              "    </div>\n",
              "  </div>\n",
              "  "
            ]
          },
          "metadata": {},
          "execution_count": 33
        }
      ]
    },
    {
      "cell_type": "code",
      "source": [
        "plot_metrics_history(\n",
        "    loaded_histories['CNN'],\n",
        "    metrics_name = 'accuracy'\n",
        ")"
      ],
      "metadata": {
        "colab": {
          "base_uri": "https://localhost:8080/",
          "height": 309
        },
        "id": "KtL9GS8oVZN2",
        "outputId": "66740ba4-f5b5-4a26-cb68-26571e5413d9"
      },
      "execution_count": 34,
      "outputs": [
        {
          "output_type": "display_data",
          "data": {
            "text/plain": [
              "<Figure size 432x288 with 1 Axes>"
            ],
            "image/png": "[encoded data removed]"
          },
          "metadata": {
            "needs_background": "light"
          }
        }
      ]
    },
    {
      "cell_type": "markdown",
      "source": [
        "# Compare number of trainable parameters"
      ],
      "metadata": {
        "id": "tXqVTKFAiLUK"
      }
    },
    {
      "cell_type": "code",
      "source": [
        "def calc_parameters(model):\n",
        "    trainableParams = np.sum([np.prod(v.get_shape()) for v in model.trainable_weights])\n",
        "    nonTrainableParams = np.sum([np.prod(v.get_shape()) for v in model.non_trainable_weights])\n",
        "    return int(trainableParams + nonTrainableParams)\n",
        "\n",
        "calc_parameters(\n",
        "    loaded_models['CNN']\n",
        ")"
      ],
      "metadata": {
        "colab": {
          "base_uri": "https://localhost:8080/"
        },
        "id": "dAgVUYYxVePL",
        "outputId": "17f66ff4-14a2-4a9c-f929-91628c3b45c2"
      },
      "execution_count": 35,
      "outputs": [
        {
          "output_type": "execute_result",
          "data": {
            "text/plain": [
              "375477"
            ]
          },
          "metadata": {},
          "execution_count": 35
        }
      ]
    }
  ]
}